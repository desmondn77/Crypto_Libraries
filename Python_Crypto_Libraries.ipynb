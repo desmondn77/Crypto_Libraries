{
  "nbformat": 4,
  "nbformat_minor": 0,
  "metadata": {
    "colab": {
      "provenance": []
    },
    "kernelspec": {
      "name": "python3",
      "display_name": "Python 3"
    },
    "language_info": {
      "name": "python"
    }
  },
  "cells": [
    {
      "cell_type": "markdown",
      "source": [
        "# Python Crypto Data Collector Libraries"
      ],
      "metadata": {
        "id": "MhOH0w1iUG42"
      }
    },
    {
      "cell_type": "markdown",
      "source": [
        "## Table of contents:\n",
        "1. Overview\n",
        "2. List of libraries\n",
        "3. CCXT\n",
        "4. Yfinance\n",
        "5. Alpha Vantage\n",
        "6. Cryptocompare\n",
        "7. Coinmarketcap\n",
        "8. Conclusion"
      ],
      "metadata": {
        "id": "-GbHlvfeVoQf"
      }
    },
    {
      "cell_type": "markdown",
      "source": [
        "## Overview"
      ],
      "metadata": {
        "id": "64R-DL-2WZ0P"
      }
    },
    {
      "cell_type": "markdown",
      "source": [
        "python have different libraries for collect financial data. In this notbook introduce 2 famous cryptocurrency libraries. CCXT and Yfinance is the most common crypto libraries. So work with this libraries is important."
      ],
      "metadata": {
        "id": "1fSczznQUK1N"
      }
    },
    {
      "cell_type": "markdown",
      "source": [
        "## List of Libraries"
      ],
      "metadata": {
        "id": "oMO_WMzW8K-y"
      }
    },
    {
      "cell_type": "markdown",
      "source": [
        "Here’s a list of popular Python libraries for collecting financial data:\n",
        "\n",
        "* **Yfinance:** Fetches historical market data from Yahoo Finance, allowing easy access to stock prices and financial metrics.\n",
        "* **Alpha Vantage:** Provides stock market data via an API. The alpha_vantage library simplifies accessing their services.\n",
        "* **Cryptocompare:** The CryptoCompare library typically refers to the libraries or SDKs that facilitate easy access to CryptoCompare's API for retrieving cryptocurrency data.\n",
        "* **CCXT:** A library for cryptocurrency market data and trading, supporting numerous exchanges.\n",
        "* **Coinmarketcap:**\n",
        "These libraries cover a wide range of financial data needs, from stocks and cryptocurrencies to economic indicators."
      ],
      "metadata": {
        "id": "gBlDdp9RWkZD"
      }
    },
    {
      "cell_type": "markdown",
      "source": [
        "## CCXT:"
      ],
      "metadata": {
        "id": "EfD-yoBd1bC7"
      }
    },
    {
      "cell_type": "markdown",
      "source": [
        "![CCXT](https://media.licdn.com/dms/image/v2/C4D0BAQG0aVqB80oAFA/company-logo_200_200/company-logo_200_200/0/1630541472514/ccxt_logo?e=2147483647&v=beta&t=8lvAizjudr2U7CwC6j5rl6kNarmZbV6f_FqUa7h2db8 \"a title\")"
      ],
      "metadata": {
        "id": "XHfrqWvo1cYQ"
      }
    },
    {
      "cell_type": "markdown",
      "source": [
        "CCXT (CryptoCurrency eXchange Trading Library) is a popular open-source library that provides a unified API for interacting with various cryptocurrency exchanges. It supports many exchanges, allowing developers to connect to and trade on multiple platforms using a consistent interface. CCXT is available in several programming languages, including JavaScript, Python, and PHP, making it versatile for different development environments.\n",
        "Key features include:\n",
        "* Unified API: A single interface for different exchanges, simplifying the\n",
        "development process.\n",
        "* Market Data: Access to real-time market data, including order books, ticker prices, and trade history.\n",
        "* Trading: Functionality for placing orders, managing accounts, and executing trades.\n",
        "* Extensive Exchange Support: Compatibility with numerous exchanges, both centralized and decentralized.\n",
        "\n",
        "CCXT is widely used for algorithmic trading, bot development, and market analysis in the cryptocurrency space."
      ],
      "metadata": {
        "id": "dnZzo6OscSUg"
      }
    },
    {
      "cell_type": "code",
      "source": [
        "pip install ccxt"
      ],
      "metadata": {
        "colab": {
          "base_uri": "https://localhost:8080/"
        },
        "collapsed": true,
        "id": "yXY6kBFqKIGl",
        "outputId": "f6d570f2-10ec-417e-bc64-2525ff2fe34d"
      },
      "execution_count": null,
      "outputs": [
        {
          "output_type": "stream",
          "name": "stdout",
          "text": [
            "Collecting ccxt\n",
            "  Downloading ccxt-4.4.17-py2.py3-none-any.whl.metadata (114 kB)\n",
            "\u001b[?25l     \u001b[90m━━━━━━━━━━━━━━━━━━━━━━━━━━━━━━━━━━━━━━━━\u001b[0m \u001b[32m0.0/114.5 kB\u001b[0m \u001b[31m?\u001b[0m eta \u001b[36m-:--:--\u001b[0m\r\u001b[2K     \u001b[90m━━━━━━━━━━━━━━━━━━━━━━━━━━━━━━━━━━━━━━━━\u001b[0m \u001b[32m114.5/114.5 kB\u001b[0m \u001b[31m6.6 MB/s\u001b[0m eta \u001b[36m0:00:00\u001b[0m\n",
            "\u001b[?25hRequirement already satisfied: setuptools>=60.9.0 in /usr/local/lib/python3.10/dist-packages (from ccxt) (71.0.4)\n",
            "Requirement already satisfied: certifi>=2018.1.18 in /usr/local/lib/python3.10/dist-packages (from ccxt) (2024.8.30)\n",
            "Requirement already satisfied: requests>=2.18.4 in /usr/local/lib/python3.10/dist-packages (from ccxt) (2.32.3)\n",
            "Requirement already satisfied: cryptography>=2.6.1 in /usr/local/lib/python3.10/dist-packages (from ccxt) (43.0.1)\n",
            "Requirement already satisfied: typing-extensions>=4.4.0 in /usr/local/lib/python3.10/dist-packages (from ccxt) (4.12.2)\n",
            "Requirement already satisfied: aiohttp>=3.8 in /usr/local/lib/python3.10/dist-packages (from ccxt) (3.10.9)\n",
            "Collecting aiodns>=1.1.1 (from ccxt)\n",
            "  Downloading aiodns-3.2.0-py3-none-any.whl.metadata (4.0 kB)\n",
            "Requirement already satisfied: yarl>=1.7.2 in /usr/local/lib/python3.10/dist-packages (from ccxt) (1.13.1)\n",
            "Collecting pycares>=4.0.0 (from aiodns>=1.1.1->ccxt)\n",
            "  Downloading pycares-4.4.0-cp310-cp310-manylinux_2_17_x86_64.manylinux2014_x86_64.whl.metadata (4.1 kB)\n",
            "Requirement already satisfied: aiohappyeyeballs>=2.3.0 in /usr/local/lib/python3.10/dist-packages (from aiohttp>=3.8->ccxt) (2.4.3)\n",
            "Requirement already satisfied: aiosignal>=1.1.2 in /usr/local/lib/python3.10/dist-packages (from aiohttp>=3.8->ccxt) (1.3.1)\n",
            "Requirement already satisfied: attrs>=17.3.0 in /usr/local/lib/python3.10/dist-packages (from aiohttp>=3.8->ccxt) (24.2.0)\n",
            "Requirement already satisfied: frozenlist>=1.1.1 in /usr/local/lib/python3.10/dist-packages (from aiohttp>=3.8->ccxt) (1.4.1)\n",
            "Requirement already satisfied: multidict<7.0,>=4.5 in /usr/local/lib/python3.10/dist-packages (from aiohttp>=3.8->ccxt) (6.1.0)\n",
            "Requirement already satisfied: async-timeout<5.0,>=4.0 in /usr/local/lib/python3.10/dist-packages (from aiohttp>=3.8->ccxt) (4.0.3)\n",
            "Requirement already satisfied: cffi>=1.12 in /usr/local/lib/python3.10/dist-packages (from cryptography>=2.6.1->ccxt) (1.17.1)\n",
            "Requirement already satisfied: charset-normalizer<4,>=2 in /usr/local/lib/python3.10/dist-packages (from requests>=2.18.4->ccxt) (3.3.2)\n",
            "Requirement already satisfied: idna<4,>=2.5 in /usr/local/lib/python3.10/dist-packages (from requests>=2.18.4->ccxt) (3.10)\n",
            "Requirement already satisfied: urllib3<3,>=1.21.1 in /usr/local/lib/python3.10/dist-packages (from requests>=2.18.4->ccxt) (2.2.3)\n",
            "Requirement already satisfied: pycparser in /usr/local/lib/python3.10/dist-packages (from cffi>=1.12->cryptography>=2.6.1->ccxt) (2.22)\n",
            "Downloading ccxt-4.4.17-py2.py3-none-any.whl (5.4 MB)\n",
            "\u001b[2K   \u001b[90m━━━━━━━━━━━━━━━━━━━━━━━━━━━━━━━━━━━━━━━━\u001b[0m \u001b[32m5.4/5.4 MB\u001b[0m \u001b[31m51.9 MB/s\u001b[0m eta \u001b[36m0:00:00\u001b[0m\n",
            "\u001b[?25hDownloading aiodns-3.2.0-py3-none-any.whl (5.7 kB)\n",
            "Downloading pycares-4.4.0-cp310-cp310-manylinux_2_17_x86_64.manylinux2014_x86_64.whl (288 kB)\n",
            "\u001b[2K   \u001b[90m━━━━━━━━━━━━━━━━━━━━━━━━━━━━━━━━━━━━━━━━\u001b[0m \u001b[32m288.7/288.7 kB\u001b[0m \u001b[31m9.3 MB/s\u001b[0m eta \u001b[36m0:00:00\u001b[0m\n",
            "\u001b[?25hInstalling collected packages: pycares, aiodns, ccxt\n",
            "Successfully installed aiodns-3.2.0 ccxt-4.4.17 pycares-4.4.0\n"
          ]
        }
      ]
    },
    {
      "cell_type": "code",
      "source": [
        "import ccxt\n",
        "\n",
        "# Initialize Kraken exchange\n",
        "exchange = ccxt.kraken()\n",
        "\n",
        "# Load markets\n",
        "markets = exchange.load_markets()\n",
        "\n",
        "# Fetch ticker data\n",
        "ticker = exchange.fetch_ticker('BTC/USD')\n",
        "print(ticker)\n"
      ],
      "metadata": {
        "colab": {
          "base_uri": "https://localhost:8080/"
        },
        "id": "SrhUEEaqLIId",
        "outputId": "7f55ff78-accc-4aff-902c-46166ae49356"
      },
      "execution_count": null,
      "outputs": [
        {
          "output_type": "stream",
          "name": "stdout",
          "text": [
            "{'symbol': 'BTC/USD', 'timestamp': None, 'datetime': None, 'high': 63414.5, 'low': 60599.0, 'bid': 62603.5, 'bidVolume': None, 'ask': 62603.6, 'askVolume': None, 'vwap': 62374.75742, 'open': 62502.5, 'close': 62603.6, 'last': 62603.6, 'previousClose': None, 'change': 101.1, 'percentage': 0.1617535298588056, 'average': 62553.0, 'baseVolume': 1903.2026768, 'quoteVolume': 118711805.28649466, 'info': {'a': ['62603.60000', '1', '1.000'], 'b': ['62603.50000', '10', '10.000'], 'c': ['62603.60000', '0.00029901'], 'v': ['128.43604614', '1903.20267680'], 'p': ['62691.30237', '62374.75742'], 't': ['5429', '40382'], 'l': ['62495.00000', '60599.00000'], 'h': ['63012.60000', '63414.50000'], 'o': '62502.50000'}, 'indexPrice': None, 'markPrice': None}\n"
          ]
        }
      ]
    },
    {
      "cell_type": "markdown",
      "source": [
        "While CCXT is powerful, it does have some limitations. Not all features of every exchange are supported, and some exchanges may have unique trading mechanisms that CCXT does not fully capture.\n",
        "\n",
        "Overall, CCXT is a valuable tool for anyone looking to interact with cryptocurrency exchanges programmatically, whether for trading, data analysis, or developing trading applications.\n",
        "\n",
        "For example,the output of Coinbase exchange have more comprehensive information than the Kraken (exchange)."
      ],
      "metadata": {
        "id": "MBieCz1Ody01"
      }
    },
    {
      "cell_type": "code",
      "source": [
        "import ccxt\n",
        "\n",
        "# Initialize Kraken exchange\n",
        "exchange = ccxt.coinbase()\n",
        "\n",
        "# Load markets\n",
        "markets = exchange.load_markets()\n",
        "\n",
        "# Fetch ticker data\n",
        "ticker = exchange.fetch_ticker('BTC/USD')\n",
        "print(ticker)\n"
      ],
      "metadata": {
        "colab": {
          "base_uri": "https://localhost:8080/"
        },
        "id": "hL5YrzGPL_25",
        "outputId": "799baa52-be73-4943-a8ba-1fd23754f23b"
      },
      "execution_count": null,
      "outputs": [
        {
          "output_type": "stream",
          "name": "stdout",
          "text": [
            "{'symbol': 'BTC/USD', 'timestamp': 1728710740731, 'datetime': '2024-10-12T05:25:40.731030Z', 'bid': 62589.63, 'ask': 62589.64, 'last': 62589.64, 'high': None, 'low': None, 'bidVolume': None, 'askVolume': None, 'vwap': None, 'open': None, 'close': 62589.64, 'previousClose': None, 'change': None, 'percentage': None, 'average': None, 'baseVolume': None, 'quoteVolume': None, 'info': {'trade_id': '701302490', 'product_id': 'BTC-USD', 'price': '62589.64', 'size': '0.00363692', 'time': '2024-10-12T05:25:40.731030Z', 'side': 'SELL', 'bid': '', 'ask': ''}, 'indexPrice': None, 'markPrice': None}\n"
          ]
        }
      ]
    },
    {
      "cell_type": "markdown",
      "source": [
        "The output of your code will display the current ticker information for the BTC/USD trading pair on Kraken. This information typically includes various details, such as:\n",
        "\n",
        "* **Bid:** The highest price a buyer is willing to pay for BTC.\n",
        "* **Ask:** The lowest price a seller is willing to accept for BTC.\n",
        "* **Last:** The last traded price of BTC.\n",
        "* **High:** The highest price over a certain period (e.g., 24 hours).\n",
        "* **Low:** The lowest price over that same period.\n",
        "* **Volume:** The trading volume for the specified period.\n",
        "* **Timestamp:** When the ticker information was last updated.\n"
      ],
      "metadata": {
        "id": "5NVk6R-vcMMI"
      }
    },
    {
      "cell_type": "markdown",
      "source": [
        "The CCXT library consists of a public part and a private part. Anyone can use the public part immediately after installation. Public APIs provide unrestricted access to public information for all exchange markets without the need to register a user account or have an API key.\n",
        "\n",
        "Public APIs include the following:\n",
        "* market data\n",
        "* instruments/trading pairs\n",
        "* price feeds (exchange rates)\n",
        "* order books\n",
        "* trade history\n",
        "* tickers\n",
        "* OHLC(V) for charting\n",
        "* other public endpoints\n",
        "\n",
        "In order to trade with private APIs you need to obtain API keys from an exchange's website. It usually means signing up to the exchange and creating API keys for your account. Some exchanges require personal info or identification. Sometimes verification may be necessary as well. In this case you will need to register yourself, this library will not create accounts or API keys for you. Some exchanges expose API endpoints for registering an account, but most exchanges don't. You will have to sign up and create API keys on their websites.\n",
        "\n",
        "Private APIs allow the following:\n",
        "\n",
        "* manage personal account info\n",
        "* query account balances\n",
        "* trade by making market and limit orders\n",
        "* deposit and withdraw fiat and crypto funds\n",
        "* query personal orders\n",
        "* get ledger history\n",
        "* transfer funds between accounts\n",
        "* use merchant services\n"
      ],
      "metadata": {
        "id": "0wkRPDuWgUKz"
      }
    },
    {
      "cell_type": "markdown",
      "source": [
        "### Benefits of CCXT\n",
        "* **Multi-Exchange Compatibility:** Simplifies development by allowing developers to work with different exchanges using a single API.\n",
        "* **Comprehensive Documentation:** The CCXT library comes with detailed documentation and examples, which is helpful for both beginners and experienced developers.\n",
        "* **Community Support:** There’s an active community and frequent updates, ensuring that the library remains up-to-date with exchange API changes.\n",
        "### Considerations of CCXT\n",
        "* **API Keys Required for Trading:** To execute trades or access account information, users need to provide API keys from their exchange accounts, which involves security considerations.\n",
        "* **Market Data Delays:** Depending on the exchange, market data may not always be real-time, so users should be aware of this when designing trading strategies."
      ],
      "metadata": {
        "id": "ElNZhCHFg5Zc"
      }
    },
    {
      "cell_type": "markdown",
      "source": [
        "## Yfinance:\n"
      ],
      "metadata": {
        "id": "z3bZFs7J2mga"
      }
    },
    {
      "cell_type": "markdown",
      "source": [
        "![Yfinance](https://cflicanada.ca/wp-content/uploads/2021/02/YFinance.png \"a title\")"
      ],
      "metadata": {
        "id": "t12884962nkB"
      }
    },
    {
      "cell_type": "markdown",
      "source": [
        "YFinance, or Yahoo Finance, is a Python library that allows users to access financial data from Yahoo Finance directly. It provides easy-to-use functions to download historical market data, retrieve stock information, and obtain various financial metrics. Users can get data for stocks, ETFs, mutual funds, options, and more, making it a popular tool for data analysis and algorithmic trading.\n",
        "\n",
        "### Key Features:\n",
        "1. **Data Retrieval:**\n",
        "  * **Historical Data:** Download time series data for a specified date range, including open, high, low, close prices, and trading volume.\n",
        "  * **Ticker Information:** Access comprehensive details about individual stocks or other financial instruments using their ticker symbols.\n",
        "2. **Financial Metrics:**\n",
        "  * Retrieve key financial ratios like P/E ratio, EPS, market capitalization, and dividend yield.\n",
        "  * Obtain data on earnings, revenue, and other critical financial indicators.\n",
        "3. **Company Information:**\n",
        "  * Access information such as company descriptions, sector classifications, and major shareholders.\n",
        "  * Find out about recent news related to specific companies.\n",
        "4. **Options Data:**\n",
        "  * Retrieve information on available options for a particular stock, including\n",
        "  strike prices, expiration dates, and implied volatility.\n",
        "5. **Portfolio Management:**\n",
        "  * Users can create portfolios to track their investments and analyze performance over time.\n",
        "6. **Screener Functions:**\n",
        "  * Filter stocks based on various criteria like market cap, dividend yield, or P/E ratio to identify potential investment opportunities.\n",
        "\n",
        "First of all you should install yfinance:"
      ],
      "metadata": {
        "id": "a5d2Nbfghi-i"
      }
    },
    {
      "cell_type": "code",
      "source": [
        "pip install yfinance"
      ],
      "metadata": {
        "colab": {
          "base_uri": "https://localhost:8080/"
        },
        "collapsed": true,
        "id": "FidaBdsz55Zq",
        "outputId": "2aa1c236-2d22-4311-ce5e-d0df51c75c7c"
      },
      "execution_count": null,
      "outputs": [
        {
          "output_type": "stream",
          "name": "stdout",
          "text": [
            "Requirement already satisfied: yfinance in /usr/local/lib/python3.10/dist-packages (0.2.44)\n",
            "Requirement already satisfied: pandas>=1.3.0 in /usr/local/lib/python3.10/dist-packages (from yfinance) (2.2.2)\n",
            "Requirement already satisfied: numpy>=1.16.5 in /usr/local/lib/python3.10/dist-packages (from yfinance) (1.26.4)\n",
            "Requirement already satisfied: requests>=2.31 in /usr/local/lib/python3.10/dist-packages (from yfinance) (2.32.3)\n",
            "Requirement already satisfied: multitasking>=0.0.7 in /usr/local/lib/python3.10/dist-packages (from yfinance) (0.0.11)\n",
            "Requirement already satisfied: lxml>=4.9.1 in /usr/local/lib/python3.10/dist-packages (from yfinance) (4.9.4)\n",
            "Requirement already satisfied: platformdirs>=2.0.0 in /usr/local/lib/python3.10/dist-packages (from yfinance) (4.3.6)\n",
            "Requirement already satisfied: pytz>=2022.5 in /usr/local/lib/python3.10/dist-packages (from yfinance) (2024.2)\n",
            "Requirement already satisfied: frozendict>=2.3.4 in /usr/local/lib/python3.10/dist-packages (from yfinance) (2.4.5)\n",
            "Requirement already satisfied: peewee>=3.16.2 in /usr/local/lib/python3.10/dist-packages (from yfinance) (3.17.6)\n",
            "Requirement already satisfied: beautifulsoup4>=4.11.1 in /usr/local/lib/python3.10/dist-packages (from yfinance) (4.12.3)\n",
            "Requirement already satisfied: html5lib>=1.1 in /usr/local/lib/python3.10/dist-packages (from yfinance) (1.1)\n",
            "Requirement already satisfied: soupsieve>1.2 in /usr/local/lib/python3.10/dist-packages (from beautifulsoup4>=4.11.1->yfinance) (2.6)\n",
            "Requirement already satisfied: six>=1.9 in /usr/local/lib/python3.10/dist-packages (from html5lib>=1.1->yfinance) (1.16.0)\n",
            "Requirement already satisfied: webencodings in /usr/local/lib/python3.10/dist-packages (from html5lib>=1.1->yfinance) (0.5.1)\n",
            "Requirement already satisfied: python-dateutil>=2.8.2 in /usr/local/lib/python3.10/dist-packages (from pandas>=1.3.0->yfinance) (2.8.2)\n",
            "Requirement already satisfied: tzdata>=2022.7 in /usr/local/lib/python3.10/dist-packages (from pandas>=1.3.0->yfinance) (2024.2)\n",
            "Requirement already satisfied: charset-normalizer<4,>=2 in /usr/local/lib/python3.10/dist-packages (from requests>=2.31->yfinance) (3.3.2)\n",
            "Requirement already satisfied: idna<4,>=2.5 in /usr/local/lib/python3.10/dist-packages (from requests>=2.31->yfinance) (3.10)\n",
            "Requirement already satisfied: urllib3<3,>=1.21.1 in /usr/local/lib/python3.10/dist-packages (from requests>=2.31->yfinance) (2.2.3)\n",
            "Requirement already satisfied: certifi>=2017.4.17 in /usr/local/lib/python3.10/dist-packages (from requests>=2.31->yfinance) (2024.8.30)\n"
          ]
        }
      ]
    },
    {
      "cell_type": "markdown",
      "source": [
        "\n",
        "To get the price of bitcoin in last 1 month we can use this:"
      ],
      "metadata": {
        "id": "uvSzBHFyjN6H"
      }
    },
    {
      "cell_type": "code",
      "source": [
        "import yfinance as yf\n",
        "\n",
        "# Download historical data for a stock\n",
        "ticker = yf.Ticker(\"BTC\")\n",
        "data = ticker.history(period=\"1mo\")  # Last month of data\n",
        "\n",
        "print(data)\n",
        "\n",
        "# Access financial metrics\n",
        "info = ticker.info\n",
        "print(info[\"marketCap\"], info[\"dividendYield\"])\n"
      ],
      "metadata": {
        "colab": {
          "base_uri": "https://localhost:8080/",
          "height": 1000
        },
        "collapsed": true,
        "id": "KL7CECFG6Okq",
        "outputId": "0eb37b89-a701-47cd-ac00-0d0595f660df"
      },
      "execution_count": null,
      "outputs": [
        {
          "output_type": "stream",
          "name": "stdout",
          "text": [
            "                           Open   High    Low  Close    Volume  Dividends  \\\n",
            "Date                                                                        \n",
            "2024-09-12 00:00:00-04:00  5.11  5.195  5.080   5.17   5012500        0.0   \n",
            "2024-09-13 00:00:00-04:00  5.12  5.330  5.110   5.30   7052000        0.0   \n",
            "2024-09-16 00:00:00-04:00  5.20  5.200  5.100   5.14   6050400        0.0   \n",
            "2024-09-17 00:00:00-04:00  5.25  5.445  5.220   5.32   6191600        0.0   \n",
            "2024-09-18 00:00:00-04:00  5.32  5.448  5.245   5.33   6795500        0.0   \n",
            "2024-09-19 00:00:00-04:00  5.61  5.670  5.560   5.61   6630800        0.0   \n",
            "2024-09-20 00:00:00-04:00  5.59  5.638  5.530   5.58  10697000        0.0   \n",
            "2024-09-23 00:00:00-04:00  5.61  5.660  5.592   5.61   5207600        0.0   \n",
            "2024-09-24 00:00:00-04:00  5.62  5.710  5.560   5.71   5744900        0.0   \n",
            "2024-09-25 00:00:00-04:00  5.63  5.680  5.580   5.60   4241200        0.0   \n",
            "2024-09-26 00:00:00-04:00  5.71  5.845  5.690   5.74   7510500        0.0   \n",
            "2024-09-27 00:00:00-04:00  5.82  5.910  5.800   5.82   5665000        0.0   \n",
            "2024-09-30 00:00:00-04:00  5.68  5.690  5.580   5.63   5918000        0.0   \n",
            "2024-10-01 00:00:00-04:00  5.62  5.630  5.410   5.48   7668500        0.0   \n",
            "2024-10-02 00:00:00-04:00  5.40  5.530  5.320   5.34   8690900        0.0   \n",
            "2024-10-03 00:00:00-04:00  5.36  5.420  5.310   5.41   4979500        0.0   \n",
            "2024-10-04 00:00:00-04:00  5.46  5.550  5.390   5.54   4910700        0.0   \n",
            "2024-10-07 00:00:00-04:00  5.60  5.720  5.565   5.62   5076300        0.0   \n",
            "2024-10-08 00:00:00-04:00  5.56  5.610  5.480   5.52   5994500        0.0   \n",
            "2024-10-09 00:00:00-04:00  5.49  5.530  5.385   5.40   5868900        0.0   \n",
            "2024-10-10 00:00:00-04:00  5.41  5.410  5.220   5.29   6222400        0.0   \n",
            "2024-10-11 00:00:00-04:00  5.45  5.630  5.440   5.61   6385100        0.0   \n",
            "\n",
            "                           Stock Splits  Capital Gains  \n",
            "Date                                                    \n",
            "2024-09-12 00:00:00-04:00           0.0            0.0  \n",
            "2024-09-13 00:00:00-04:00           0.0            0.0  \n",
            "2024-09-16 00:00:00-04:00           0.0            0.0  \n",
            "2024-09-17 00:00:00-04:00           0.0            0.0  \n",
            "2024-09-18 00:00:00-04:00           0.0            0.0  \n",
            "2024-09-19 00:00:00-04:00           0.0            0.0  \n",
            "2024-09-20 00:00:00-04:00           0.0            0.0  \n",
            "2024-09-23 00:00:00-04:00           0.0            0.0  \n",
            "2024-09-24 00:00:00-04:00           0.0            0.0  \n",
            "2024-09-25 00:00:00-04:00           0.0            0.0  \n",
            "2024-09-26 00:00:00-04:00           0.0            0.0  \n",
            "2024-09-27 00:00:00-04:00           0.0            0.0  \n",
            "2024-09-30 00:00:00-04:00           0.0            0.0  \n",
            "2024-10-01 00:00:00-04:00           0.0            0.0  \n",
            "2024-10-02 00:00:00-04:00           0.0            0.0  \n",
            "2024-10-03 00:00:00-04:00           0.0            0.0  \n",
            "2024-10-04 00:00:00-04:00           0.0            0.0  \n",
            "2024-10-07 00:00:00-04:00           0.0            0.0  \n",
            "2024-10-08 00:00:00-04:00           0.0            0.0  \n",
            "2024-10-09 00:00:00-04:00           0.0            0.0  \n",
            "2024-10-10 00:00:00-04:00           0.0            0.0  \n",
            "2024-10-11 00:00:00-04:00           0.0            0.0  \n"
          ]
        },
        {
          "output_type": "error",
          "ename": "KeyError",
          "evalue": "'marketCap'",
          "traceback": [
            "\u001b[0;31m---------------------------------------------------------------------------\u001b[0m",
            "\u001b[0;31mKeyError\u001b[0m                                  Traceback (most recent call last)",
            "\u001b[0;32m<ipython-input-3-351f9fe9a907>\u001b[0m in \u001b[0;36m<cell line: 11>\u001b[0;34m()\u001b[0m\n\u001b[1;32m      9\u001b[0m \u001b[0;31m# Access financial metrics\u001b[0m\u001b[0;34m\u001b[0m\u001b[0;34m\u001b[0m\u001b[0m\n\u001b[1;32m     10\u001b[0m \u001b[0minfo\u001b[0m \u001b[0;34m=\u001b[0m \u001b[0mticker\u001b[0m\u001b[0;34m.\u001b[0m\u001b[0minfo\u001b[0m\u001b[0;34m\u001b[0m\u001b[0;34m\u001b[0m\u001b[0m\n\u001b[0;32m---> 11\u001b[0;31m \u001b[0mprint\u001b[0m\u001b[0;34m(\u001b[0m\u001b[0minfo\u001b[0m\u001b[0;34m[\u001b[0m\u001b[0;34m\"marketCap\"\u001b[0m\u001b[0;34m]\u001b[0m\u001b[0;34m,\u001b[0m \u001b[0minfo\u001b[0m\u001b[0;34m[\u001b[0m\u001b[0;34m\"dividendYield\"\u001b[0m\u001b[0;34m]\u001b[0m\u001b[0;34m)\u001b[0m\u001b[0;34m\u001b[0m\u001b[0;34m\u001b[0m\u001b[0m\n\u001b[0m",
            "\u001b[0;31mKeyError\u001b[0m: 'marketCap'"
          ]
        }
      ]
    },
    {
      "cell_type": "markdown",
      "source": [
        "The **yahoo-fin** like **yfinance** library is a Python package that provides a straightforward way to access Yahoo Finance data, offering functionality for fetching stock market data, financial statements, and other relevant financial information. Here’s an overview of its key features and how to use it:"
      ],
      "metadata": {
        "id": "R2hD-Hi7jvTy"
      }
    },
    {
      "cell_type": "code",
      "source": [
        "pip install yahoo-fin"
      ],
      "metadata": {
        "colab": {
          "base_uri": "https://localhost:8080/"
        },
        "collapsed": true,
        "id": "D9W853hhC91S",
        "outputId": "89093a2c-2dd7-427a-e19e-fa06454bd629"
      },
      "execution_count": null,
      "outputs": [
        {
          "output_type": "stream",
          "name": "stdout",
          "text": [
            "Requirement already satisfied: yahoo-fin in /usr/local/lib/python3.10/dist-packages (0.8.9.1)\n",
            "Requirement already satisfied: requests-html in /usr/local/lib/python3.10/dist-packages (from yahoo-fin) (0.10.0)\n",
            "Requirement already satisfied: feedparser in /usr/local/lib/python3.10/dist-packages (from yahoo-fin) (6.0.11)\n",
            "Requirement already satisfied: requests in /usr/local/lib/python3.10/dist-packages (from yahoo-fin) (2.32.3)\n",
            "Requirement already satisfied: pandas in /usr/local/lib/python3.10/dist-packages (from yahoo-fin) (2.2.2)\n",
            "Requirement already satisfied: sgmllib3k in /usr/local/lib/python3.10/dist-packages (from feedparser->yahoo-fin) (1.0.0)\n",
            "Requirement already satisfied: numpy>=1.22.4 in /usr/local/lib/python3.10/dist-packages (from pandas->yahoo-fin) (1.26.4)\n",
            "Requirement already satisfied: python-dateutil>=2.8.2 in /usr/local/lib/python3.10/dist-packages (from pandas->yahoo-fin) (2.8.2)\n",
            "Requirement already satisfied: pytz>=2020.1 in /usr/local/lib/python3.10/dist-packages (from pandas->yahoo-fin) (2024.2)\n",
            "Requirement already satisfied: tzdata>=2022.7 in /usr/local/lib/python3.10/dist-packages (from pandas->yahoo-fin) (2024.2)\n",
            "Requirement already satisfied: charset-normalizer<4,>=2 in /usr/local/lib/python3.10/dist-packages (from requests->yahoo-fin) (3.3.2)\n",
            "Requirement already satisfied: idna<4,>=2.5 in /usr/local/lib/python3.10/dist-packages (from requests->yahoo-fin) (3.10)\n",
            "Requirement already satisfied: urllib3<3,>=1.21.1 in /usr/local/lib/python3.10/dist-packages (from requests->yahoo-fin) (1.26.20)\n",
            "Requirement already satisfied: certifi>=2017.4.17 in /usr/local/lib/python3.10/dist-packages (from requests->yahoo-fin) (2024.8.30)\n",
            "Requirement already satisfied: pyquery in /usr/local/lib/python3.10/dist-packages (from requests-html->yahoo-fin) (2.0.1)\n",
            "Requirement already satisfied: fake-useragent in /usr/local/lib/python3.10/dist-packages (from requests-html->yahoo-fin) (1.5.1)\n",
            "Requirement already satisfied: parse in /usr/local/lib/python3.10/dist-packages (from requests-html->yahoo-fin) (1.20.2)\n",
            "Requirement already satisfied: bs4 in /usr/local/lib/python3.10/dist-packages (from requests-html->yahoo-fin) (0.0.2)\n",
            "Requirement already satisfied: w3lib in /usr/local/lib/python3.10/dist-packages (from requests-html->yahoo-fin) (2.2.1)\n",
            "Requirement already satisfied: pyppeteer>=0.0.14 in /usr/local/lib/python3.10/dist-packages (from requests-html->yahoo-fin) (2.0.0)\n",
            "Requirement already satisfied: appdirs<2.0.0,>=1.4.3 in /usr/local/lib/python3.10/dist-packages (from pyppeteer>=0.0.14->requests-html->yahoo-fin) (1.4.4)\n",
            "Requirement already satisfied: importlib-metadata>=1.4 in /usr/local/lib/python3.10/dist-packages (from pyppeteer>=0.0.14->requests-html->yahoo-fin) (8.4.0)\n",
            "Requirement already satisfied: pyee<12.0.0,>=11.0.0 in /usr/local/lib/python3.10/dist-packages (from pyppeteer>=0.0.14->requests-html->yahoo-fin) (11.1.1)\n",
            "Requirement already satisfied: tqdm<5.0.0,>=4.42.1 in /usr/local/lib/python3.10/dist-packages (from pyppeteer>=0.0.14->requests-html->yahoo-fin) (4.66.5)\n",
            "Requirement already satisfied: websockets<11.0,>=10.0 in /usr/local/lib/python3.10/dist-packages (from pyppeteer>=0.0.14->requests-html->yahoo-fin) (10.4)\n",
            "Requirement already satisfied: six>=1.5 in /usr/local/lib/python3.10/dist-packages (from python-dateutil>=2.8.2->pandas->yahoo-fin) (1.16.0)\n",
            "Requirement already satisfied: beautifulsoup4 in /usr/local/lib/python3.10/dist-packages (from bs4->requests-html->yahoo-fin) (4.12.3)\n",
            "Requirement already satisfied: lxml>=2.1 in /usr/local/lib/python3.10/dist-packages (from pyquery->requests-html->yahoo-fin) (4.9.4)\n",
            "Requirement already satisfied: cssselect>=1.2.0 in /usr/local/lib/python3.10/dist-packages (from pyquery->requests-html->yahoo-fin) (1.2.0)\n",
            "Requirement already satisfied: zipp>=0.5 in /usr/local/lib/python3.10/dist-packages (from importlib-metadata>=1.4->pyppeteer>=0.0.14->requests-html->yahoo-fin) (3.20.2)\n",
            "Requirement already satisfied: typing-extensions in /usr/local/lib/python3.10/dist-packages (from pyee<12.0.0,>=11.0.0->pyppeteer>=0.0.14->requests-html->yahoo-fin) (4.12.2)\n",
            "Requirement already satisfied: soupsieve>1.2 in /usr/local/lib/python3.10/dist-packages (from beautifulsoup4->bs4->requests-html->yahoo-fin) (2.6)\n"
          ]
        }
      ]
    },
    {
      "cell_type": "markdown",
      "source": [
        "to use yahoo-fin, you should need run (request) function:"
      ],
      "metadata": {
        "id": "RJbVAXKWlYAN"
      }
    },
    {
      "cell_type": "code",
      "source": [
        "pip install requests"
      ],
      "metadata": {
        "colab": {
          "base_uri": "https://localhost:8080/"
        },
        "collapsed": true,
        "id": "Z3IiGFDbH-IU",
        "outputId": "e684d802-3ea0-42c8-8196-87987ea744c0"
      },
      "execution_count": null,
      "outputs": [
        {
          "output_type": "stream",
          "name": "stdout",
          "text": [
            "Requirement already satisfied: requests in /usr/local/lib/python3.10/dist-packages (2.32.3)\n",
            "Requirement already satisfied: charset-normalizer<4,>=2 in /usr/local/lib/python3.10/dist-packages (from requests) (3.3.2)\n",
            "Requirement already satisfied: idna<4,>=2.5 in /usr/local/lib/python3.10/dist-packages (from requests) (3.10)\n",
            "Requirement already satisfied: urllib3<3,>=1.21.1 in /usr/local/lib/python3.10/dist-packages (from requests) (1.26.20)\n",
            "Requirement already satisfied: certifi>=2017.4.17 in /usr/local/lib/python3.10/dist-packages (from requests) (2024.8.30)\n"
          ]
        }
      ]
    },
    {
      "cell_type": "markdown",
      "source": [
        "Here’s a simple example of how to use the yahoo-fin library to get historical cryptos data:\n",
        "\n"
      ],
      "metadata": {
        "id": "4clDNADVltWV"
      }
    },
    {
      "cell_type": "code",
      "source": [
        "from yahoo_fin.stock_info import get_data"
      ],
      "metadata": {
        "id": "ocOzowIIDe7A"
      },
      "execution_count": null,
      "outputs": []
    },
    {
      "cell_type": "markdown",
      "source": [
        "The get_data function is commonly associated with libraries like yahoo-fin or yfinance, and it allows users to fetch historical market data for specific assets. Below, I’ll explain how to use the get_data function specifically within the context of the yahoo-fin library, as well as general usage for other libraries.\n",
        "### Parameters\n",
        "* **Ticker:** The ticker symbol for the asset you want to fetch data for (e.g., BTC-USD for Bitcoin against USD).\n",
        "* **start_date:** The starting date for the historical data (format: YYYY-MM-DD).\n",
        "end_date: The ending date for the historical data (format: YYYY-MM-DD).\n",
        "* **index_as_date (optional):** If set to True, the index of the DataFrame will be the date.\n",
        "\n",
        "you can use interval to set time frame. in this example we set daily time frame:"
      ],
      "metadata": {
        "id": "V4MXrKhfmONY"
      }
    },
    {
      "cell_type": "code",
      "source": [
        "BTC = get_data('BTC-USD',start_date='03/06/2022',end_date='03/07/2023', index_as_date=True, interval='1d')\n",
        "BTC"
      ],
      "metadata": {
        "colab": {
          "base_uri": "https://localhost:8080/",
          "height": 423
        },
        "collapsed": true,
        "id": "C7ZSMwG6HCVl",
        "outputId": "c90d3660-fa39-4aea-cffa-3c6f093a1382"
      },
      "execution_count": null,
      "outputs": [
        {
          "output_type": "execute_result",
          "data": {
            "text/plain": [
              "                    open          high           low         close  \\\n",
              "2022-03-06  39404.199219  39640.175781  38211.648438  38419.984375   \n",
              "2022-03-07  38429.304688  39430.226562  37260.203125  38062.039062   \n",
              "2022-03-08  38059.902344  39304.441406  37957.386719  38737.269531   \n",
              "2022-03-09  38742.816406  42465.671875  38706.093750  41982.925781   \n",
              "2022-03-10  41974.070312  42004.726562  38832.941406  39437.460938   \n",
              "...                  ...           ...           ...           ...   \n",
              "2023-03-03  23476.632812  23479.347656  22213.238281  22362.679688   \n",
              "2023-03-04  22362.923828  22405.177734  22198.980469  22353.349609   \n",
              "2023-03-05  22354.144531  22613.685547  22307.142578  22435.513672   \n",
              "2023-03-06  22436.816406  22584.292969  22331.314453  22429.757812   \n",
              "2023-03-07  22428.322266  22527.417969  22011.261719  22219.769531   \n",
              "\n",
              "                adjclose       volume   ticker  \n",
              "2022-03-06  38419.984375  19745229902  BTC-USD  \n",
              "2022-03-07  38062.039062  28546143503  BTC-USD  \n",
              "2022-03-08  38737.269531  25776583476  BTC-USD  \n",
              "2022-03-09  41982.925781  32284121034  BTC-USD  \n",
              "2022-03-10  39437.460938  31078064711  BTC-USD  \n",
              "...                  ...          ...      ...  \n",
              "2023-03-03  22362.679688  26062404610  BTC-USD  \n",
              "2023-03-04  22353.349609  11166012913  BTC-USD  \n",
              "2023-03-05  22435.513672  13317001733  BTC-USD  \n",
              "2023-03-06  22429.757812  17353192895  BTC-USD  \n",
              "2023-03-07  22219.769531  22765452204  BTC-USD  \n",
              "\n",
              "[367 rows x 7 columns]"
            ],
            "text/html": [
              "\n",
              "  <div id=\"df-fca5cc79-96af-40a1-b2f0-db770270eda7\" class=\"colab-df-container\">\n",
              "    <div>\n",
              "<style scoped>\n",
              "    .dataframe tbody tr th:only-of-type {\n",
              "        vertical-align: middle;\n",
              "    }\n",
              "\n",
              "    .dataframe tbody tr th {\n",
              "        vertical-align: top;\n",
              "    }\n",
              "\n",
              "    .dataframe thead th {\n",
              "        text-align: right;\n",
              "    }\n",
              "</style>\n",
              "<table border=\"1\" class=\"dataframe\">\n",
              "  <thead>\n",
              "    <tr style=\"text-align: right;\">\n",
              "      <th></th>\n",
              "      <th>open</th>\n",
              "      <th>high</th>\n",
              "      <th>low</th>\n",
              "      <th>close</th>\n",
              "      <th>adjclose</th>\n",
              "      <th>volume</th>\n",
              "      <th>ticker</th>\n",
              "    </tr>\n",
              "  </thead>\n",
              "  <tbody>\n",
              "    <tr>\n",
              "      <th>2022-03-06</th>\n",
              "      <td>39404.199219</td>\n",
              "      <td>39640.175781</td>\n",
              "      <td>38211.648438</td>\n",
              "      <td>38419.984375</td>\n",
              "      <td>38419.984375</td>\n",
              "      <td>19745229902</td>\n",
              "      <td>BTC-USD</td>\n",
              "    </tr>\n",
              "    <tr>\n",
              "      <th>2022-03-07</th>\n",
              "      <td>38429.304688</td>\n",
              "      <td>39430.226562</td>\n",
              "      <td>37260.203125</td>\n",
              "      <td>38062.039062</td>\n",
              "      <td>38062.039062</td>\n",
              "      <td>28546143503</td>\n",
              "      <td>BTC-USD</td>\n",
              "    </tr>\n",
              "    <tr>\n",
              "      <th>2022-03-08</th>\n",
              "      <td>38059.902344</td>\n",
              "      <td>39304.441406</td>\n",
              "      <td>37957.386719</td>\n",
              "      <td>38737.269531</td>\n",
              "      <td>38737.269531</td>\n",
              "      <td>25776583476</td>\n",
              "      <td>BTC-USD</td>\n",
              "    </tr>\n",
              "    <tr>\n",
              "      <th>2022-03-09</th>\n",
              "      <td>38742.816406</td>\n",
              "      <td>42465.671875</td>\n",
              "      <td>38706.093750</td>\n",
              "      <td>41982.925781</td>\n",
              "      <td>41982.925781</td>\n",
              "      <td>32284121034</td>\n",
              "      <td>BTC-USD</td>\n",
              "    </tr>\n",
              "    <tr>\n",
              "      <th>2022-03-10</th>\n",
              "      <td>41974.070312</td>\n",
              "      <td>42004.726562</td>\n",
              "      <td>38832.941406</td>\n",
              "      <td>39437.460938</td>\n",
              "      <td>39437.460938</td>\n",
              "      <td>31078064711</td>\n",
              "      <td>BTC-USD</td>\n",
              "    </tr>\n",
              "    <tr>\n",
              "      <th>...</th>\n",
              "      <td>...</td>\n",
              "      <td>...</td>\n",
              "      <td>...</td>\n",
              "      <td>...</td>\n",
              "      <td>...</td>\n",
              "      <td>...</td>\n",
              "      <td>...</td>\n",
              "    </tr>\n",
              "    <tr>\n",
              "      <th>2023-03-03</th>\n",
              "      <td>23476.632812</td>\n",
              "      <td>23479.347656</td>\n",
              "      <td>22213.238281</td>\n",
              "      <td>22362.679688</td>\n",
              "      <td>22362.679688</td>\n",
              "      <td>26062404610</td>\n",
              "      <td>BTC-USD</td>\n",
              "    </tr>\n",
              "    <tr>\n",
              "      <th>2023-03-04</th>\n",
              "      <td>22362.923828</td>\n",
              "      <td>22405.177734</td>\n",
              "      <td>22198.980469</td>\n",
              "      <td>22353.349609</td>\n",
              "      <td>22353.349609</td>\n",
              "      <td>11166012913</td>\n",
              "      <td>BTC-USD</td>\n",
              "    </tr>\n",
              "    <tr>\n",
              "      <th>2023-03-05</th>\n",
              "      <td>22354.144531</td>\n",
              "      <td>22613.685547</td>\n",
              "      <td>22307.142578</td>\n",
              "      <td>22435.513672</td>\n",
              "      <td>22435.513672</td>\n",
              "      <td>13317001733</td>\n",
              "      <td>BTC-USD</td>\n",
              "    </tr>\n",
              "    <tr>\n",
              "      <th>2023-03-06</th>\n",
              "      <td>22436.816406</td>\n",
              "      <td>22584.292969</td>\n",
              "      <td>22331.314453</td>\n",
              "      <td>22429.757812</td>\n",
              "      <td>22429.757812</td>\n",
              "      <td>17353192895</td>\n",
              "      <td>BTC-USD</td>\n",
              "    </tr>\n",
              "    <tr>\n",
              "      <th>2023-03-07</th>\n",
              "      <td>22428.322266</td>\n",
              "      <td>22527.417969</td>\n",
              "      <td>22011.261719</td>\n",
              "      <td>22219.769531</td>\n",
              "      <td>22219.769531</td>\n",
              "      <td>22765452204</td>\n",
              "      <td>BTC-USD</td>\n",
              "    </tr>\n",
              "  </tbody>\n",
              "</table>\n",
              "<p>367 rows × 7 columns</p>\n",
              "</div>\n",
              "    <div class=\"colab-df-buttons\">\n",
              "\n",
              "  <div class=\"colab-df-container\">\n",
              "    <button class=\"colab-df-convert\" onclick=\"convertToInteractive('df-fca5cc79-96af-40a1-b2f0-db770270eda7')\"\n",
              "            title=\"Convert this dataframe to an interactive table.\"\n",
              "            style=\"display:none;\">\n",
              "\n",
              "  <svg xmlns=\"http://www.w3.org/2000/svg\" height=\"24px\" viewBox=\"0 -960 960 960\">\n",
              "    <path d=\"M120-120v-720h720v720H120Zm60-500h600v-160H180v160Zm220 220h160v-160H400v160Zm0 220h160v-160H400v160ZM180-400h160v-160H180v160Zm440 0h160v-160H620v160ZM180-180h160v-160H180v160Zm440 0h160v-160H620v160Z\"/>\n",
              "  </svg>\n",
              "    </button>\n",
              "\n",
              "  <style>\n",
              "    .colab-df-container {\n",
              "      display:flex;\n",
              "      gap: 12px;\n",
              "    }\n",
              "\n",
              "    .colab-df-convert {\n",
              "      background-color: #E8F0FE;\n",
              "      border: none;\n",
              "      border-radius: 50%;\n",
              "      cursor: pointer;\n",
              "      display: none;\n",
              "      fill: #1967D2;\n",
              "      height: 32px;\n",
              "      padding: 0 0 0 0;\n",
              "      width: 32px;\n",
              "    }\n",
              "\n",
              "    .colab-df-convert:hover {\n",
              "      background-color: #E2EBFA;\n",
              "      box-shadow: 0px 1px 2px rgba(60, 64, 67, 0.3), 0px 1px 3px 1px rgba(60, 64, 67, 0.15);\n",
              "      fill: #174EA6;\n",
              "    }\n",
              "\n",
              "    .colab-df-buttons div {\n",
              "      margin-bottom: 4px;\n",
              "    }\n",
              "\n",
              "    [theme=dark] .colab-df-convert {\n",
              "      background-color: #3B4455;\n",
              "      fill: #D2E3FC;\n",
              "    }\n",
              "\n",
              "    [theme=dark] .colab-df-convert:hover {\n",
              "      background-color: #434B5C;\n",
              "      box-shadow: 0px 1px 3px 1px rgba(0, 0, 0, 0.15);\n",
              "      filter: drop-shadow(0px 1px 2px rgba(0, 0, 0, 0.3));\n",
              "      fill: #FFFFFF;\n",
              "    }\n",
              "  </style>\n",
              "\n",
              "    <script>\n",
              "      const buttonEl =\n",
              "        document.querySelector('#df-fca5cc79-96af-40a1-b2f0-db770270eda7 button.colab-df-convert');\n",
              "      buttonEl.style.display =\n",
              "        google.colab.kernel.accessAllowed ? 'block' : 'none';\n",
              "\n",
              "      async function convertToInteractive(key) {\n",
              "        const element = document.querySelector('#df-fca5cc79-96af-40a1-b2f0-db770270eda7');\n",
              "        const dataTable =\n",
              "          await google.colab.kernel.invokeFunction('convertToInteractive',\n",
              "                                                    [key], {});\n",
              "        if (!dataTable) return;\n",
              "\n",
              "        const docLinkHtml = 'Like what you see? Visit the ' +\n",
              "          '<a target=\"_blank\" href=https://colab.research.google.com/notebooks/data_table.ipynb>data table notebook</a>'\n",
              "          + ' to learn more about interactive tables.';\n",
              "        element.innerHTML = '';\n",
              "        dataTable['output_type'] = 'display_data';\n",
              "        await google.colab.output.renderOutput(dataTable, element);\n",
              "        const docLink = document.createElement('div');\n",
              "        docLink.innerHTML = docLinkHtml;\n",
              "        element.appendChild(docLink);\n",
              "      }\n",
              "    </script>\n",
              "  </div>\n",
              "\n",
              "\n",
              "<div id=\"df-8381c015-d0f7-4928-8517-5132197657f7\">\n",
              "  <button class=\"colab-df-quickchart\" onclick=\"quickchart('df-8381c015-d0f7-4928-8517-5132197657f7')\"\n",
              "            title=\"Suggest charts\"\n",
              "            style=\"display:none;\">\n",
              "\n",
              "<svg xmlns=\"http://www.w3.org/2000/svg\" height=\"24px\"viewBox=\"0 0 24 24\"\n",
              "     width=\"24px\">\n",
              "    <g>\n",
              "        <path d=\"M19 3H5c-1.1 0-2 .9-2 2v14c0 1.1.9 2 2 2h14c1.1 0 2-.9 2-2V5c0-1.1-.9-2-2-2zM9 17H7v-7h2v7zm4 0h-2V7h2v10zm4 0h-2v-4h2v4z\"/>\n",
              "    </g>\n",
              "</svg>\n",
              "  </button>\n",
              "\n",
              "<style>\n",
              "  .colab-df-quickchart {\n",
              "      --bg-color: #E8F0FE;\n",
              "      --fill-color: #1967D2;\n",
              "      --hover-bg-color: #E2EBFA;\n",
              "      --hover-fill-color: #174EA6;\n",
              "      --disabled-fill-color: #AAA;\n",
              "      --disabled-bg-color: #DDD;\n",
              "  }\n",
              "\n",
              "  [theme=dark] .colab-df-quickchart {\n",
              "      --bg-color: #3B4455;\n",
              "      --fill-color: #D2E3FC;\n",
              "      --hover-bg-color: #434B5C;\n",
              "      --hover-fill-color: #FFFFFF;\n",
              "      --disabled-bg-color: #3B4455;\n",
              "      --disabled-fill-color: #666;\n",
              "  }\n",
              "\n",
              "  .colab-df-quickchart {\n",
              "    background-color: var(--bg-color);\n",
              "    border: none;\n",
              "    border-radius: 50%;\n",
              "    cursor: pointer;\n",
              "    display: none;\n",
              "    fill: var(--fill-color);\n",
              "    height: 32px;\n",
              "    padding: 0;\n",
              "    width: 32px;\n",
              "  }\n",
              "\n",
              "  .colab-df-quickchart:hover {\n",
              "    background-color: var(--hover-bg-color);\n",
              "    box-shadow: 0 1px 2px rgba(60, 64, 67, 0.3), 0 1px 3px 1px rgba(60, 64, 67, 0.15);\n",
              "    fill: var(--button-hover-fill-color);\n",
              "  }\n",
              "\n",
              "  .colab-df-quickchart-complete:disabled,\n",
              "  .colab-df-quickchart-complete:disabled:hover {\n",
              "    background-color: var(--disabled-bg-color);\n",
              "    fill: var(--disabled-fill-color);\n",
              "    box-shadow: none;\n",
              "  }\n",
              "\n",
              "  .colab-df-spinner {\n",
              "    border: 2px solid var(--fill-color);\n",
              "    border-color: transparent;\n",
              "    border-bottom-color: var(--fill-color);\n",
              "    animation:\n",
              "      spin 1s steps(1) infinite;\n",
              "  }\n",
              "\n",
              "  @keyframes spin {\n",
              "    0% {\n",
              "      border-color: transparent;\n",
              "      border-bottom-color: var(--fill-color);\n",
              "      border-left-color: var(--fill-color);\n",
              "    }\n",
              "    20% {\n",
              "      border-color: transparent;\n",
              "      border-left-color: var(--fill-color);\n",
              "      border-top-color: var(--fill-color);\n",
              "    }\n",
              "    30% {\n",
              "      border-color: transparent;\n",
              "      border-left-color: var(--fill-color);\n",
              "      border-top-color: var(--fill-color);\n",
              "      border-right-color: var(--fill-color);\n",
              "    }\n",
              "    40% {\n",
              "      border-color: transparent;\n",
              "      border-right-color: var(--fill-color);\n",
              "      border-top-color: var(--fill-color);\n",
              "    }\n",
              "    60% {\n",
              "      border-color: transparent;\n",
              "      border-right-color: var(--fill-color);\n",
              "    }\n",
              "    80% {\n",
              "      border-color: transparent;\n",
              "      border-right-color: var(--fill-color);\n",
              "      border-bottom-color: var(--fill-color);\n",
              "    }\n",
              "    90% {\n",
              "      border-color: transparent;\n",
              "      border-bottom-color: var(--fill-color);\n",
              "    }\n",
              "  }\n",
              "</style>\n",
              "\n",
              "  <script>\n",
              "    async function quickchart(key) {\n",
              "      const quickchartButtonEl =\n",
              "        document.querySelector('#' + key + ' button');\n",
              "      quickchartButtonEl.disabled = true;  // To prevent multiple clicks.\n",
              "      quickchartButtonEl.classList.add('colab-df-spinner');\n",
              "      try {\n",
              "        const charts = await google.colab.kernel.invokeFunction(\n",
              "            'suggestCharts', [key], {});\n",
              "      } catch (error) {\n",
              "        console.error('Error during call to suggestCharts:', error);\n",
              "      }\n",
              "      quickchartButtonEl.classList.remove('colab-df-spinner');\n",
              "      quickchartButtonEl.classList.add('colab-df-quickchart-complete');\n",
              "    }\n",
              "    (() => {\n",
              "      let quickchartButtonEl =\n",
              "        document.querySelector('#df-8381c015-d0f7-4928-8517-5132197657f7 button');\n",
              "      quickchartButtonEl.style.display =\n",
              "        google.colab.kernel.accessAllowed ? 'block' : 'none';\n",
              "    })();\n",
              "  </script>\n",
              "</div>\n",
              "\n",
              "  <div id=\"id_f658a592-29d9-4082-8a75-790b5675c742\">\n",
              "    <style>\n",
              "      .colab-df-generate {\n",
              "        background-color: #E8F0FE;\n",
              "        border: none;\n",
              "        border-radius: 50%;\n",
              "        cursor: pointer;\n",
              "        display: none;\n",
              "        fill: #1967D2;\n",
              "        height: 32px;\n",
              "        padding: 0 0 0 0;\n",
              "        width: 32px;\n",
              "      }\n",
              "\n",
              "      .colab-df-generate:hover {\n",
              "        background-color: #E2EBFA;\n",
              "        box-shadow: 0px 1px 2px rgba(60, 64, 67, 0.3), 0px 1px 3px 1px rgba(60, 64, 67, 0.15);\n",
              "        fill: #174EA6;\n",
              "      }\n",
              "\n",
              "      [theme=dark] .colab-df-generate {\n",
              "        background-color: #3B4455;\n",
              "        fill: #D2E3FC;\n",
              "      }\n",
              "\n",
              "      [theme=dark] .colab-df-generate:hover {\n",
              "        background-color: #434B5C;\n",
              "        box-shadow: 0px 1px 3px 1px rgba(0, 0, 0, 0.15);\n",
              "        filter: drop-shadow(0px 1px 2px rgba(0, 0, 0, 0.3));\n",
              "        fill: #FFFFFF;\n",
              "      }\n",
              "    </style>\n",
              "    <button class=\"colab-df-generate\" onclick=\"generateWithVariable('BTC')\"\n",
              "            title=\"Generate code using this dataframe.\"\n",
              "            style=\"display:none;\">\n",
              "\n",
              "  <svg xmlns=\"http://www.w3.org/2000/svg\" height=\"24px\"viewBox=\"0 0 24 24\"\n",
              "       width=\"24px\">\n",
              "    <path d=\"M7,19H8.4L18.45,9,17,7.55,7,17.6ZM5,21V16.75L18.45,3.32a2,2,0,0,1,2.83,0l1.4,1.43a1.91,1.91,0,0,1,.58,1.4,1.91,1.91,0,0,1-.58,1.4L9.25,21ZM18.45,9,17,7.55Zm-12,3A5.31,5.31,0,0,0,4.9,8.1,5.31,5.31,0,0,0,1,6.5,5.31,5.31,0,0,0,4.9,4.9,5.31,5.31,0,0,0,6.5,1,5.31,5.31,0,0,0,8.1,4.9,5.31,5.31,0,0,0,12,6.5,5.46,5.46,0,0,0,6.5,12Z\"/>\n",
              "  </svg>\n",
              "    </button>\n",
              "    <script>\n",
              "      (() => {\n",
              "      const buttonEl =\n",
              "        document.querySelector('#id_f658a592-29d9-4082-8a75-790b5675c742 button.colab-df-generate');\n",
              "      buttonEl.style.display =\n",
              "        google.colab.kernel.accessAllowed ? 'block' : 'none';\n",
              "\n",
              "      buttonEl.onclick = () => {\n",
              "        google.colab.notebook.generateWithVariable('BTC');\n",
              "      }\n",
              "      })();\n",
              "    </script>\n",
              "  </div>\n",
              "\n",
              "    </div>\n",
              "  </div>\n"
            ],
            "application/vnd.google.colaboratory.intrinsic+json": {
              "type": "dataframe",
              "variable_name": "BTC",
              "summary": "{\n  \"name\": \"BTC\",\n  \"rows\": 367,\n  \"fields\": [\n    {\n      \"column\": \"open\",\n      \"properties\": {\n        \"dtype\": \"number\",\n        \"std\": 8402.131705242524,\n        \"min\": 15782.30078125,\n        \"max\": 47456.8984375,\n        \"num_unique_values\": 367,\n        \"samples\": [\n          20242.2890625,\n          43505.13671875,\n          41246.1328125\n        ],\n        \"semantic_type\": \"\",\n        \"description\": \"\"\n      }\n    },\n    {\n      \"column\": \"high\",\n      \"properties\": {\n        \"dtype\": \"number\",\n        \"std\": 8571.75727606691,\n        \"min\": 16253.0478515625,\n        \"max\": 48086.8359375,\n        \"num_unique_values\": 367,\n        \"samples\": [\n          20318.166015625,\n          43903.01953125,\n          41454.41015625\n        ],\n        \"semantic_type\": \"\",\n        \"description\": \"\"\n      }\n    },\n    {\n      \"column\": \"low\",\n      \"properties\": {\n        \"dtype\": \"number\",\n        \"std\": 8207.913922397382,\n        \"min\": 15599.046875,\n        \"max\": 47100.4375,\n        \"num_unique_values\": 367,\n        \"samples\": [\n          19636.734375,\n          42183.2890625,\n          40668.04296875\n        ],\n        \"semantic_type\": \"\",\n        \"description\": \"\"\n      }\n    },\n    {\n      \"column\": \"close\",\n      \"properties\": {\n        \"dtype\": \"number\",\n        \"std\": 8369.459313602945,\n        \"min\": 15787.2841796875,\n        \"max\": 47465.73046875,\n        \"num_unique_values\": 367,\n        \"samples\": [\n          19701.2109375,\n          42287.6640625,\n          41077.99609375\n        ],\n        \"semantic_type\": \"\",\n        \"description\": \"\"\n      }\n    },\n    {\n      \"column\": \"adjclose\",\n      \"properties\": {\n        \"dtype\": \"number\",\n        \"std\": 8369.459313602945,\n        \"min\": 15787.2841796875,\n        \"max\": 47465.73046875,\n        \"num_unique_values\": 367,\n        \"samples\": [\n          19701.2109375,\n          42287.6640625,\n          41077.99609375\n        ],\n        \"semantic_type\": \"\",\n        \"description\": \"\"\n      }\n    },\n    {\n      \"column\": \"volume\",\n      \"properties\": {\n        \"dtype\": \"number\",\n        \"std\": 12405690471,\n        \"min\": 7714767174,\n        \"max\": 118992465607,\n        \"num_unique_values\": 367,\n        \"samples\": [\n          36389011503,\n          27215995394,\n          24615543271\n        ],\n        \"semantic_type\": \"\",\n        \"description\": \"\"\n      }\n    },\n    {\n      \"column\": \"ticker\",\n      \"properties\": {\n        \"dtype\": \"category\",\n        \"num_unique_values\": 1,\n        \"samples\": [\n          \"BTC-USD\"\n        ],\n        \"semantic_type\": \"\",\n        \"description\": \"\"\n      }\n    }\n  ]\n}"
            }
          },
          "metadata": {},
          "execution_count": 16
        }
      ]
    },
    {
      "cell_type": "markdown",
      "source": [
        "## Conclusion\n",
        "These libraries provide various functionalities and access to different data sources. Depending on your specific needs (stocks, cryptocurrencies, historical data, etc.), you can choose the appropriate library.\n"
      ],
      "metadata": {
        "id": "USlyKqJVUUwZ"
      }
    }
  ]
}